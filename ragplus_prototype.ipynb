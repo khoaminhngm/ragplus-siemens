{
 "cells": [
  {
   "cell_type": "markdown",
   "metadata": {},
   "source": [
    "# 1. Set up Pinecone & Langchain\n",
    "\n",
    "## 1.1 Credentials - get API key"
   ]
  },
  {
   "cell_type": "code",
   "execution_count": 3,
   "metadata": {},
   "outputs": [],
   "source": [
    "import os\n",
    "from getpass import getpass\n",
    "\n",
    "from pinecone import Pinecone\n",
    "import langchain"
   ]
  },
  {
   "cell_type": "code",
   "execution_count": 4,
   "metadata": {},
   "outputs": [],
   "source": [
    "# VectorDB\n",
    "import getpass # For secure password input\n",
    "import os\n",
    "\n",
    "from pinecone import Pinecone\n",
    "\n",
    "os.environ[\"PINECONE_API_KEY\"] = os.getenv(\"PINECONE_API_KEY\") or getpass(\n",
    "    \"Enter your Pinecone API key: \"\n",
    ")\n",
    "\n",
    "pinecone_api_key = os.getenv(\"PINECONE_API_KEY\")\n",
    "\n",
    "pc = Pinecone(api_key=pinecone_api_key)"
   ]
  },
  {
   "cell_type": "markdown",
   "metadata": {},
   "source": [
    "## 1.2 Initialization\n",
    "### 1.2.1 Check for index - create index\n",
    "\n",
    "Index is a workspace inside of Pinecone DB - a namespace is a folder inside an index"
   ]
  },
  {
   "cell_type": "code",
   "execution_count": 5,
   "metadata": {},
   "outputs": [],
   "source": [
    "index_name = \"llama-text-embed-v2\"\n",
    "if not pc.has_index(index_name):\n",
    "    pc.create_index_for_model(\n",
    "        name=index_name,\n",
    "        cloud=\"aws\",\n",
    "        region=\"us-east-1\",\n",
    "        embed={\n",
    "            \"model\": \"llama-text-embed-v2\",\n",
    "            \"field_map\": {\"text\": \"text\"}\n",
    "        }\n",
    "    )\n",
    "index = pc.Index(index_name)"
   ]
  },
  {
   "cell_type": "markdown",
   "metadata": {},
   "source": [
    "### 1.2.2 Create Langchain Wrapper for Pinecone Embedding model\n",
    "\n",
    "Sources:\n",
    "- [Langchain Huggingface Docs](https://python.langchain.com/api_reference/huggingface/embeddings/langchain_huggingface.embeddings.huggingface.HuggingFaceEmbeddings.html)\n",
    "- [Langchain Pinecone Embeddings Docs](https://python.langchain.com/docs/integrations/text_embedding/pinecone/)\n",
    "- [Langchain Pinecone Docs](https://python.langchain.com/docs/integrations/vectorstores/pinecone/#initialization)\n",
    "- [Pinecone llama-text-embed-v2 docs](https://docs.pinecone.io/models/llama-text-embed-v2)"
   ]
  },
  {
   "cell_type": "code",
   "execution_count": 6,
   "metadata": {},
   "outputs": [],
   "source": [
    "from langchain_pinecone import PineconeEmbeddings\n",
    "\n",
    "embeddings = PineconeEmbeddings(model=\"llama-text-embed-v2\")"
   ]
  },
  {
   "cell_type": "markdown",
   "metadata": {},
   "source": [
    "### 1.2.3 Init Langchain Vectorstore"
   ]
  },
  {
   "cell_type": "code",
   "execution_count": 7,
   "metadata": {},
   "outputs": [],
   "source": [
    "from langchain_pinecone import PineconeVectorStore\n",
    "\n",
    "vector_store = PineconeVectorStore(index=index, embedding=embeddings)"
   ]
  },
  {
   "cell_type": "markdown",
   "metadata": {},
   "source": [
    "delete all data in db before adding new facts & rules"
   ]
  },
  {
   "cell_type": "code",
   "execution_count": 8,
   "metadata": {},
   "outputs": [
    {
     "data": {
      "text/plain": [
       "{}"
      ]
     },
     "execution_count": 8,
     "metadata": {},
     "output_type": "execute_result"
    }
   ],
   "source": [
    "vector_store._index.delete(delete_all=True)"
   ]
  },
  {
   "cell_type": "markdown",
   "metadata": {},
   "source": [
    "Every Document has:\n",
    "- .page_content → the text\n",
    "- .metadata → a dictionary\n",
    "\n",
    "Note:\n",
    "\n",
    "Facts & Rules sind ChatGPT generiert mit folgendem Prompt:\n",
    "\n",
    "\"give me 5 facts and 5 rules about siemens and a prompt for testing\""
   ]
  },
  {
   "cell_type": "code",
   "execution_count": 10,
   "metadata": {},
   "outputs": [
    {
     "data": {
      "text/plain": [
       "['5c32ca0b-d89b-4a10-8ed4-170926c2d179',\n",
       " '727edef1-dfec-4c76-ba15-a8399e1f331d',\n",
       " '6ef3f4bb-ce78-44c4-a8a0-d5066a10f70a',\n",
       " '4c56f184-8f1f-4677-b485-a4139b08b8df',\n",
       " '075d0fcb-fbfa-4b60-8f71-7889a9c8e21c',\n",
       " '959bf3be-3e5e-4efe-8208-a57bc54eda59',\n",
       " '84652daa-e939-45fd-85f2-b630f82ae43b',\n",
       " 'a96f04c4-bf91-47aa-bdcf-5a2cc2ec3eb4',\n",
       " 'd803546d-f938-430c-b000-f07bf55b0477',\n",
       " 'e0118c35-9f20-4b83-810b-9de20cbc4076']"
      ]
     },
     "execution_count": 10,
     "metadata": {},
     "output_type": "execute_result"
    }
   ],
   "source": [
    "from uuid import uuid4\n",
    "\n",
    "from langchain_core.documents import Document\n",
    "\n",
    "# --- Facts ---\n",
    "document_1 = Document(\n",
    "    page_content=\"Siemens was founded in 1847 by Werner von Siemens in Berlin, Germany.\",\n",
    "    metadata={\"source\": \"facts\"},\n",
    ")\n",
    "\n",
    "document_2 = Document(\n",
    "    page_content=\"Siemens is a global leader in electrification, automation, and digitalization solutions.\",\n",
    "    metadata={\"source\": \"facts\"},\n",
    ")\n",
    "\n",
    "document_3 = Document(\n",
    "    page_content=\"Siemens operates in more than 190 countries worldwide.\",\n",
    "    metadata={\"source\": \"facts\"},\n",
    ")\n",
    "\n",
    "document_4 = Document(\n",
    "    page_content=\"Siemens Energy, a spin-off from Siemens AG, focuses on power generation and transmission.\",\n",
    "    metadata={\"source\": \"facts\"},\n",
    ")\n",
    "\n",
    "document_5 = Document(\n",
    "    page_content=\"The Siemens logo is one of the most recognizable industrial logos in the world.\",\n",
    "    metadata={\"source\": \"facts\"},\n",
    ")\n",
    "\n",
    "# --- Rules ---\n",
    "document_6 = Document(\n",
    "    page_content=\"If a company provides automation and digitalization solutions, then it supports Industry 4.0.\",\n",
    "    metadata={\"source\": \"rules\"},\n",
    ")\n",
    "\n",
    "document_7 = Document(\n",
    "    page_content=\"If a firm has operations in more than 100 countries, then it is considered a multinational corporation.\",\n",
    "    metadata={\"source\": \"rules\"},\n",
    ")\n",
    "\n",
    "document_8 = Document(\n",
    "    page_content=\"If a business is a leader in electrification, then it contributes to energy transition and grid modernization.\",\n",
    "    metadata={\"source\": \"rules\"},\n",
    ")\n",
    "\n",
    "document_9 = Document(\n",
    "    page_content=\"If a company spins off a specialized division, then that division operates as an independent entity.\",\n",
    "    metadata={\"source\": \"rules\"},\n",
    ")\n",
    "\n",
    "document_10 = Document(\n",
    "    page_content=\"If a brand is widely recognized worldwide, then it has strong global brand equity.\",\n",
    "    metadata={\"source\": \"rules\"},\n",
    ")\n",
    "\n",
    "documents = [\n",
    "    document_1,\n",
    "    document_2,\n",
    "    document_3,\n",
    "    document_4,\n",
    "    document_5,\n",
    "    document_6,\n",
    "    document_7,\n",
    "    document_8,\n",
    "    document_9,\n",
    "    document_10,\n",
    "]\n",
    "uuids = [str(uuid4()) for _ in range(len(documents))]\n",
    "vector_store.add_documents(documents=documents, ids=uuids)"
   ]
  },
  {
   "cell_type": "code",
   "execution_count": 12,
   "metadata": {},
   "outputs": [],
   "source": [
    "prompt = \"Why is Siemens considered an important player in the global energy transition?\""
   ]
  },
  {
   "cell_type": "markdown",
   "metadata": {},
   "source": [
    "### 1.2.4 Test Data & Test code - Ignore whole SECTION while run"
   ]
  },
  {
   "cell_type": "code",
   "execution_count": 32,
   "metadata": {},
   "outputs": [],
   "source": [
    "# docs = [\n",
    "#     \"Apple is a popular fruit known for its sweetness and crisp texture.\",\n",
    "#     \"The tech company Apple is known for its innovative products like the iPhone.\",\n",
    "#     \"Many people enjoy eating apples as a healthy snack.\",\n",
    "#     \"Apple Inc. has revolutionized the tech industry with its sleek designs and user-friendly interfaces.\",\n",
    "#     \"An apple a day keeps the doctor away, as the saying goes.\",\n",
    "# ]"
   ]
  },
  {
   "cell_type": "code",
   "execution_count": 33,
   "metadata": {},
   "outputs": [],
   "source": [
    "# doc_embeds = embeddings.embed_documents(docs)\n",
    "# doc_embeds"
   ]
  },
  {
   "cell_type": "code",
   "execution_count": 34,
   "metadata": {},
   "outputs": [],
   "source": [
    "# query = \"Tell me about the tech company known as Apple\"\n",
    "# query_embed = embeddings.embed_query(query)\n",
    "# query_embed"
   ]
  },
  {
   "cell_type": "markdown",
   "metadata": {},
   "source": [
    "### 1.2.5 Similarity Search\n",
    "#### 1.2.5.1 Test - Ignore while run"
   ]
  },
  {
   "cell_type": "code",
   "execution_count": 35,
   "metadata": {},
   "outputs": [],
   "source": [
    "# results = vector_store.similarity_search(\n",
    "#     \"LangChain provides abstractions to make working with LLMs easy\",\n",
    "#     k=2,\n",
    "#     filter={\"source\": \"tweet\"},\n",
    "# )\n",
    "# for res in results:\n",
    "#     print(f\"* {res.page_content} [{res.metadata}]\")"
   ]
  },
  {
   "cell_type": "markdown",
   "metadata": {},
   "source": [
    "#### 1.2.5.2 Implementation"
   ]
  },
  {
   "cell_type": "code",
   "execution_count": 13,
   "metadata": {},
   "outputs": [],
   "source": [
    "relevant_docs = vector_store.similarity_search(\n",
    "    prompt,\n",
    "    k = 4,\n",
    ")"
   ]
  },
  {
   "cell_type": "code",
   "execution_count": 14,
   "metadata": {},
   "outputs": [
    {
     "name": "stdout",
     "output_type": "stream",
     "text": [
      "Relevant documents found: [Document(id='727edef1-dfec-4c76-ba15-a8399e1f331d', metadata={'source': 'facts'}, page_content='Siemens is a global leader in electrification, automation, and digitalization solutions.'), Document(id='0660ae8d-eb27-44f8-aa3f-4a3f64306794', metadata={'source': 'facts'}, page_content='Siemens is a global leader in electrification, automation, and digitalization solutions.'), Document(id='a96f04c4-bf91-47aa-bdcf-5a2cc2ec3eb4', metadata={'source': 'rules'}, page_content='If a business is a leader in electrification, then it contributes to energy transition and grid modernization.'), Document(id='160a794e-fd73-4c6a-ba6b-2ca27b7a0ebe', metadata={'source': 'rules'}, page_content='If a business is a leader in electrification, then it contributes to energy transition and grid modernization.')]\n"
     ]
    }
   ],
   "source": [
    "print(\"Relevant documents found:\", relevant_docs)"
   ]
  },
  {
   "cell_type": "code",
   "execution_count": 15,
   "metadata": {},
   "outputs": [],
   "source": [
    "facts = [doc for doc in relevant_docs if doc.metadata.get(\"source\") == \"facts\"]\n",
    "rules = [doc for doc in relevant_docs if doc.metadata.get(\"source\") == \"rules\"]"
   ]
  },
  {
   "cell_type": "code",
   "execution_count": 16,
   "metadata": {},
   "outputs": [],
   "source": [
    "facts_str = \"\\n\".join([f\"- {doc.page_content}\" for doc in facts])\n",
    "rules_str = \"\\n\".join([f\"- {doc.page_content}\" for doc in rules])"
   ]
  },
  {
   "cell_type": "markdown",
   "metadata": {},
   "source": [
    "# 2. Gemini LLM"
   ]
  },
  {
   "cell_type": "markdown",
   "metadata": {},
   "source": [
    "## 2.1 Init Gemini LLM\n",
    "Sources:\n",
    "- [Langchain LLM](https://python.langchain.com/api_reference/core/language_models/langchain_core.language_models.llms.LLM.html)\n",
    "- [Google AI Langchain LLM](https://python.langchain.com/docs/integrations/providers/google/#llms)"
   ]
  },
  {
   "cell_type": "code",
   "execution_count": 17,
   "metadata": {},
   "outputs": [
    {
     "name": "stderr",
     "output_type": "stream",
     "text": [
      "WARNING: All log messages before absl::InitializeLog() is called are written to STDERR\n",
      "E0000 00:00:1758757324.849893 8107704 alts_credentials.cc:93] ALTS creds ignored. Not running on GCP and untrusted ALTS is not enabled.\n"
     ]
    }
   ],
   "source": [
    "from langchain_google_genai import GoogleGenerativeAI\n",
    "\n",
    "llm = GoogleGenerativeAI(\n",
    "    model=\"gemini-2.5-flash\",\n",
    "    google_api_key= os.getenv(\"GOOGLE_API_KEY\")\n",
    "    )"
   ]
  },
  {
   "cell_type": "markdown",
   "metadata": {},
   "source": [
    "## 2.2 Prompt Template\n",
    "Sources:\n",
    "- [Prompt Template LC](https://python.langchain.com/docs/concepts/prompt_templates/)"
   ]
  },
  {
   "cell_type": "code",
   "execution_count": 19,
   "metadata": {},
   "outputs": [],
   "source": [
    "from langchain_core.prompts import PromptTemplate\n",
    "\n",
    "prompt_template = PromptTemplate.from_template(\n",
    "    \"\"\"Based only on the following retrieved relevant facts:\n",
    "        {facts}\n",
    "    \n",
    "        and rules:\n",
    "        {rules}\n",
    "\n",
    "        answer the following question:\n",
    "        {prompt}\n",
    "    \"\"\"\n",
    ")\n",
    "\n",
    "message = prompt_template.invoke({\n",
    "    \"facts\": facts_str,\n",
    "    \"rules\": rules_str,\n",
    "    \"prompt\": prompt\n",
    "    })"
   ]
  },
  {
   "cell_type": "code",
   "execution_count": 20,
   "metadata": {},
   "outputs": [],
   "source": [
    "response = llm.invoke(message)"
   ]
  },
  {
   "cell_type": "code",
   "execution_count": 21,
   "metadata": {},
   "outputs": [
    {
     "name": "stdout",
     "output_type": "stream",
     "text": [
      "[Document(id='727edef1-dfec-4c76-ba15-a8399e1f331d', metadata={'source': 'facts'}, page_content='Siemens is a global leader in electrification, automation, and digitalization solutions.'), Document(id='0660ae8d-eb27-44f8-aa3f-4a3f64306794', metadata={'source': 'facts'}, page_content='Siemens is a global leader in electrification, automation, and digitalization solutions.'), Document(id='a96f04c4-bf91-47aa-bdcf-5a2cc2ec3eb4', metadata={'source': 'rules'}, page_content='If a business is a leader in electrification, then it contributes to energy transition and grid modernization.'), Document(id='160a794e-fd73-4c6a-ba6b-2ca27b7a0ebe', metadata={'source': 'rules'}, page_content='If a business is a leader in electrification, then it contributes to energy transition and grid modernization.')] \n",
      "\n",
      "Facts used:\n",
      " - Siemens is a global leader in electrification, automation, and digitalization solutions.\n",
      "- Siemens is a global leader in electrification, automation, and digitalization solutions. \n",
      "\n",
      "Rules used:\n",
      " - If a business is a leader in electrification, then it contributes to energy transition and grid modernization.\n",
      "- If a business is a leader in electrification, then it contributes to energy transition and grid modernization. \n",
      "\n",
      "Prompt:\n",
      " Why is Siemens considered an important player in the global energy transition? \n",
      "\n",
      "Final Response from LLM: Siemens is considered an important player in the global energy transition because it is a global leader in electrification. As a leader in electrification, it contributes to the energy transition and grid modernization.\n"
     ]
    }
   ],
   "source": [
    "print(relevant_docs, \"\\n\")\n",
    "print(\"Facts used:\\n\", facts_str, \"\\n\")\n",
    "print(\"Rules used:\\n\", rules_str, \"\\n\")\n",
    "print(\"Prompt:\\n\", prompt, \"\\n\")\n",
    "\n",
    "print(\"Final Response from LLM:\", response)"
   ]
  }
 ],
 "metadata": {
  "kernelspec": {
   "display_name": "ragplus_sm",
   "language": "python",
   "name": "python3"
  },
  "language_info": {
   "codemirror_mode": {
    "name": "ipython",
    "version": 3
   },
   "file_extension": ".py",
   "mimetype": "text/x-python",
   "name": "python",
   "nbconvert_exporter": "python",
   "pygments_lexer": "ipython3",
   "version": "3.10.18"
  }
 },
 "nbformat": 4,
 "nbformat_minor": 2
}
